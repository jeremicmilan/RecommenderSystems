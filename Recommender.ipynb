{
 "cells": [
  {
   "cell_type": "code",
   "execution_count": 1,
   "metadata": {
    "collapsed": true
   },
   "outputs": [],
   "source": [
    "import pip\n",
    "import pandas as pd\n",
    "import numpy as np"
   ]
  },
  {
   "cell_type": "code",
   "execution_count": 2,
   "metadata": {
    "collapsed": true
   },
   "outputs": [],
   "source": [
    "# Read files\n",
    "\n",
    "# movieId, title, genres\n",
    "movies = pd.read_csv('data/movies.csv', sep=',',header=0)\n",
    "\n",
    "# movieId, imdbId, tmdbId\n",
    "links = pd.read_csv('data/links.csv', sep=',',header=0)\n",
    "\n",
    "# userId, movieId, tag, timestamp\n",
    "tags = pd.read_csv('data/tags.csv', sep=',',header=0)\n",
    "\n",
    "# userId, movieId, rating, timestamp\n",
    "ratings = pd.read_csv('data/ratings.txt', sep='\\t',header=0)\n",
    "\n",
    "# tagId, tag\n",
    "genome_tags = pd.read_csv('data/genome-tags.csv', sep=',',header=0)\n",
    "\n",
    "# movieId, tagId, relevance\n",
    "genome_scores = pd.read_csv('data/genome-scores.txt', sep='\\t',header=0)"
   ]
  },
  {
   "cell_type": "code",
   "execution_count": 3,
   "metadata": {},
   "outputs": [],
   "source": [
    "movieCount = ratings.movieId.max()\n",
    "userCount = ratings.userId.max()"
   ]
  },
  {
   "cell_type": "code",
   "execution_count": 4,
   "metadata": {},
   "outputs": [],
   "source": [
    "A = np.zeros((userCount, movieCount))\n",
    "\n",
    "for rating in ratings.itertuples():\n",
    "    A[int(rating.userId)-1, int(rating.movieId)-1] = rating.rating"
   ]
  },
  {
   "cell_type": "code",
   "execution_count": 5,
   "metadata": {},
   "outputs": [
    {
     "data": {
      "text/plain": [
       "array([[ 0. ,  3.5,  0. , ...,  0. ,  0. ,  0. ],\n",
       "       [ 0. ,  0. ,  4. , ...,  0. ,  0. ,  0. ],\n",
       "       [ 4. ,  0. ,  0. , ...,  0. ,  0. ,  0. ],\n",
       "       ..., \n",
       "       [ 0. ,  0. ,  0. , ...,  0. ,  0. ,  0. ],\n",
       "       [ 5. ,  0. ,  0. , ...,  0. ,  0. ,  0. ],\n",
       "       [ 4.5,  4. ,  0. , ...,  0. ,  0. ,  0. ]])"
      ]
     },
     "execution_count": 5,
     "metadata": {},
     "output_type": "execute_result"
    }
   ],
   "source": [
    "A"
   ]
  },
  {
   "cell_type": "code",
   "execution_count": 6,
   "metadata": {},
   "outputs": [
    {
     "data": {
      "text/plain": [
       "(7120, 130642)"
      ]
     },
     "execution_count": 6,
     "metadata": {},
     "output_type": "execute_result"
    }
   ],
   "source": [
    "A.shape"
   ]
  },
  {
   "cell_type": "code",
   "execution_count": null,
   "metadata": {
    "collapsed": true
   },
   "outputs": [],
   "source": []
  }
 ],
 "metadata": {
  "kernelspec": {
   "display_name": "Python 3",
   "language": "python",
   "name": "python3"
  },
  "language_info": {
   "codemirror_mode": {
    "name": "ipython",
    "version": 3
   },
   "file_extension": ".py",
   "mimetype": "text/x-python",
   "name": "python",
   "nbconvert_exporter": "python",
   "pygments_lexer": "ipython3",
   "version": "3.6.1"
  }
 },
 "nbformat": 4,
 "nbformat_minor": 2
}
