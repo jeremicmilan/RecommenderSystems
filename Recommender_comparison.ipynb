{
 "cells": [
  {
   "cell_type": "code",
   "execution_count": 1,
   "metadata": {},
   "outputs": [],
   "source": [
    "import pandas as pd\n",
    "import numpy as np\n",
    "from sklearn import model_selection\n",
    "from sklearn import metrics\n",
    "from scipy import stats\n",
    "import surprise"
   ]
  },
  {
   "cell_type": "code",
   "execution_count": 2,
   "metadata": {},
   "outputs": [],
   "source": [
    "########## Read files ##########\n",
    "\n",
    "# Load the movielens-100k dataset (download it if needed),\n",
    "# and split it into 3 folds for cross-validation.\n",
    "data = surprise.Dataset.load_builtin('ml-100k')\n",
    "\n",
    "# userId, movieId, rating, timestamp\n",
    "ratings = pd.read_csv(data.ratings_file, sep='\\t',names=['userId', 'movieId', 'rating', 'timestamp'])"
   ]
  },
  {
   "cell_type": "code",
   "execution_count": null,
   "metadata": {
    "collapsed": true
   },
   "outputs": [],
   "source": [
    "########## Spliting into train and test ##########\n",
    "train_ratings, test_ratings = model_selection.train_test_split(ratings, test_size = 0.33)"
   ]
  },
  {
   "cell_type": "code",
   "execution_count": null,
   "metadata": {},
   "outputs": [],
   "source": [
    "########## Investigating the data and making auxilary data structures ##########\n",
    "\n",
    "trainUserIds = train_ratings.userId.unique()\n",
    "trainUserIds.sort()\n",
    "print (\"%20s\" % \"Train user IDs: \" + str((trainUserIds.shape, trainUserIds)))\n",
    "\n",
    "testUserIds = test_ratings.userId.unique()\n",
    "testUserIds.sort()\n",
    "print (\"%20s\" % \"Test user IDs: \" + str((testUserIds.shape, testUserIds)))\n",
    "\n",
    "trainMovieIds = train_ratings.movieId.unique()\n",
    "trainMovieIds.sort()\n",
    "print (\"%20s\" % \"Train movie IDs: \" + str((trainMovieIds.shape, trainMovieIds)))\n",
    "\n",
    "testMovieIds = test_ratings.movieId.unique()\n",
    "testMovieIds.sort()\n",
    "print (\"%20s\" % \"Test movie IDs: \" + str((testMovieIds.shape, testMovieIds)))\n",
    "\n",
    "userIds = ratings.userId.unique()\n",
    "userIds.sort()\n",
    "print (\"%20s\" % \"User IDs: \" + str((userIds.shape, userIds)))\n",
    "\n",
    "movieIds = ratings.movieId.unique()\n",
    "movieIds.sort()\n",
    "print (\"%20s\" % \"Movie IDs: \" + str((movieIds.shape, movieIds)))\n",
    "\n",
    "# We can use the UserId as an index of the matrix, but we cannot use movieId\n",
    "# Let's make index to ID dictionary anyway for both for robustness\n",
    "\n",
    "userCount = userIds.size\n",
    "movieCount = movieIds.size\n",
    "\n",
    "userIndexToIdDict = dict()\n",
    "userIdToIndexDict = dict()\n",
    "for i in range(userCount):\n",
    "    userIndexToIdDict[i] = userIds[i]\n",
    "    userIdToIndexDict[userIds[i]] = i\n",
    "\n",
    "movieIndexToIdDict = dict()\n",
    "movieIdToIndexDict = dict()\n",
    "for i in range(movieCount):\n",
    "    movieIndexToIdDict[i] = movieIds[i]\n",
    "    movieIdToIndexDict[movieIds[i]] = i"
   ]
  },
  {
   "cell_type": "code",
   "execution_count": null,
   "metadata": {
    "collapsed": true
   },
   "outputs": [],
   "source": [
    "########## Constructing user/movie rating matrices ##########\n",
    "\n",
    "# Constructing a train matrix\n",
    "trainMatrix = np.zeros((userCount, movieCount))\n",
    "for rating in train_ratings.itertuples():\n",
    "    trainMatrix[int(userIdToIndexDict[rating.userId]), int(movieIdToIndexDict[rating.movieId])] = rating.rating\n",
    "    \n",
    "# Constructing a test matrix\n",
    "testMatrix = np.zeros((userCount, movieCount))\n",
    "for rating in test_ratings.itertuples():\n",
    "    testMatrix[int(userIdToIndexDict[rating.userId]), int(movieIdToIndexDict[rating.movieId])] = rating.rating"
   ]
  },
  {
   "cell_type": "code",
   "execution_count": null,
   "metadata": {
    "collapsed": true
   },
   "outputs": [],
   "source": [
    "########## Calculating simmilarity matrices ##########\n",
    "\n",
    "appliedMetrics = np.array(['cosine', 'euclidean'])\n",
    "appliedMetricCount = appliedMetrics.shape[0]\n",
    "userSimilarities = dict()\n",
    "\n",
    "# cosine simmilarity:\n",
    "## Here is an explanation why cosine distance was returning 0 instead of 1 (discussed on project presentation)\n",
    "## Long story short it is a DISTANCE, not similarity (snippet from documentation):\n",
    "##\n",
    "## Signature: metrics.pairwise.cosine_distances(X, Y=None)\n",
    "## Docstring:\n",
    "## Compute cosine distance between samples in X and Y.\n",
    "##\n",
    "## Cosine distance is defined as 1.0 minus the cosine similarity.\n",
    "userSimilarities[appliedMetrics[0]] = 1 - metrics.pairwise_distances(trainMatrix, metric = appliedMetrics[0])\n",
    "\n",
    "# euclidean simmilarity\n",
    "userSimilaritiyEuclidean = metrics.pairwise_distances(trainMatrix, metric = appliedMetrics[1])\n",
    "userSimilarities[appliedMetrics[1]] = 1 - userSimilaritiyEuclidean / userSimilaritiyEuclidean.max()"
   ]
  },
  {
   "cell_type": "code",
   "execution_count": null,
   "metadata": {},
   "outputs": [],
   "source": [
    "########## Calculating the predictions ##########\n",
    "\n",
    "# First algorithm, taken as a basic algorithm is from andjelkaz' website\n",
    "def prediction_basic(matrix, user_similarity):\n",
    "    x_mean = matrix.mean(axis = 1)\n",
    "    matrix_diff = (matrix - x_mean[:, np.newaxis])\n",
    "    p = x_mean[:, np.newaxis] + user_similarity.dot(matrix_diff) / np.array([np.abs(user_similarity).sum(axis=1)]).T\n",
    "    return p\n",
    "\n",
    "def prediction_basic_with_threshold(matrix, user_similarity, threshmin):\n",
    "    x_mean = matrix.mean(axis = 1)\n",
    "    user_similarity = stats.threshold(user_similarity, threshmin=threshmin, threshmax=1, newval=0)\n",
    "    matrix_diff = (matrix - x_mean[:, np.newaxis])\n",
    "    p = x_mean[:, np.newaxis] + user_similarity.dot(matrix_diff) / np.array([np.abs(user_similarity).sum(axis=1)]).T\n",
    "    return p\n",
    "\n",
    "def prediction_basic_no_mean(matrix, user_similarity):\n",
    "    p = user_similarity.dot(matrix) / np.array([np.abs(user_similarity).sum(axis=1)]).T\n",
    "    return p\n",
    "\n",
    "def prediction_basic_no_mean_with_threshold(matrix, user_similarity, threshmin):\n",
    "    user_similarity = stats.threshold(user_similarity, threshmin=threshmin, threshmax=1, newval=0)\n",
    "    p = user_similarity.dot(matrix) / np.array([np.abs(user_similarity).sum(axis=1)]).T\n",
    "    return p\n",
    "\n",
    "def prediction_basic_k_nearest_neighbours(matrix2, user_similarity2, k):\n",
    "    userSimilarity = np.matrix.copy(user_similarity2)\n",
    "    for i in range(userSimilarity.shape[1]):\n",
    "        userSimilarityForUser = userSimilarity[i]\n",
    "        kNearestNeighbours = userSimilarityForUser.argsort()[-(k + 1):][::-1][1:]\n",
    "\n",
    "        #print (\"Count before: \" + str(len(userSimilarityForUser.nonzero()[0])))\n",
    "        userSimilarityForUserNew = np.zeros(userSimilarity.shape[0])\n",
    "        userSimilarityForUserNew[kNearestNeighbours] = userSimilarityForUser[kNearestNeighbours]\n",
    "        userSimilarity[i] = userSimilarityForUserNew\n",
    "        #print (\"Count after (expected \" + str(k) + \"): \" + str(len(userSimilarityForUser.nonzero()[0])))\n",
    "        \n",
    "    p = userSimilarity.dot(matrix2) / np.array([np.abs(userSimilarity).sum(axis=1)]).T\n",
    "    p[np.bitwise_not(np.isfinite(p))] = 0\n",
    "    return p\n",
    "\n",
    "\n",
    "userMoviePredictions = dict()\n",
    "\n",
    "for appliedMetric in appliedMetrics:\n",
    "    userSimilarity = userSimilarities[appliedMetric]\n",
    "    \n",
    "    if (appliedMetric == 'cosine'):\n",
    "        threshmin = 0.5\n",
    "    else:\n",
    "        threshmin = 0.8\n",
    "\n",
    "    userMoviePredictions[(appliedMetric, 'basic')] = prediction_basic(testMatrix, userSimilarity)\n",
    "    userMoviePredictions[(appliedMetric, 'basicWithThreshold')] = prediction_basic_with_threshold(testMatrix, userSimilarity, threshmin)\n",
    "    userMoviePredictions[(appliedMetric, 'basicNoMean')] = prediction_basic_no_mean(testMatrix, userSimilarity)\n",
    "    userMoviePredictions[(appliedMetric, 'basicNoMeanWithThreshold')] = prediction_basic_no_mean_with_threshold(testMatrix, userSimilarity, threshmin)\n",
    "    userMoviePredictions[(appliedMetric, 'basicKNearestNeighbours')] = prediction_basic_k_nearest_neighbours(testMatrix, userSimilarity, 20)\n"
   ]
  },
  {
   "cell_type": "code",
   "execution_count": null,
   "metadata": {},
   "outputs": [],
   "source": []
  },
  {
   "cell_type": "code",
   "execution_count": null,
   "metadata": {},
   "outputs": [],
   "source": []
  },
  {
   "cell_type": "code",
   "execution_count": null,
   "metadata": {},
   "outputs": [],
   "source": [
    "########## Scoring different models ##########\n",
    "\n",
    "def evaluation(prediction, ground_truth):\n",
    "    prediction = prediction[ground_truth.nonzero()].flatten()\n",
    "    ground_truth = ground_truth[ground_truth.nonzero()].flatten()\n",
    "    return np.sqrt(metrics.mean_squared_error(ground_truth, prediction))\n",
    "\n",
    "evaluations = dict()\n",
    "\n",
    "for userMoviePrediction in userMoviePredictions:\n",
    "    evaluations[userMoviePrediction] = evaluation(userMoviePredictions[userMoviePrediction], testMatrix)\n",
    "\n",
    "evaluations"
   ]
  },
  {
   "cell_type": "code",
   "execution_count": null,
   "metadata": {},
   "outputs": [
    {
     "name": "stdout",
     "output_type": "stream",
     "text": [
      "Evaluating RMSE of algorithm KNNBasic.\n",
      "\n",
      "------------\n",
      "Fold 1\n",
      "Computing the msd similarity matrix...\n",
      "Done computing similarity matrix.\n",
      "RMSE: 0.9884\n",
      "------------\n",
      "Fold 2\n",
      "Computing the msd similarity matrix...\n",
      "Done computing similarity matrix.\n"
     ]
    }
   ],
   "source": [
    "########## Scoring models from library 'surprise' ##########\n",
    "\n",
    "data.split(n_folds=3)\n",
    "\n",
    "# Evaluate performances of different algorithms.\n",
    "perfKNNBasic = surprise.evaluate(surprise.KNNBasic(), data, measures=['RMSE'])\n",
    "perfKNNWithMeans = surprise.evaluate(surprise.KNNWithMeans(), data, measures=['RMSE'])\n",
    "perfSVD = surprise.evaluate(surprise.SVD(), data, measures=['RMSE'])\n",
    "perfSVDpp = surprise.evaluate(surprise.SVDpp(), data, measures=['RMSE'])\n",
    "\n",
    "surprise.print_perf(perfKNNBasic)\n",
    "surprise.print_perf(perfKNNWithMeans)\n",
    "surprise.print_perf(perfSVD)\n",
    "surprise.print_perf(perfSVDpp)"
   ]
  },
  {
   "cell_type": "code",
   "execution_count": null,
   "metadata": {
    "collapsed": true
   },
   "outputs": [],
   "source": []
  }
 ],
 "metadata": {
  "kernelspec": {
   "display_name": "Python 3",
   "language": "python",
   "name": "python3"
  },
  "language_info": {
   "codemirror_mode": {
    "name": "ipython",
    "version": 3
   },
   "file_extension": ".py",
   "mimetype": "text/x-python",
   "name": "python",
   "nbconvert_exporter": "python",
   "pygments_lexer": "ipython3",
   "version": "3.6.1"
  }
 },
 "nbformat": 4,
 "nbformat_minor": 2
}
